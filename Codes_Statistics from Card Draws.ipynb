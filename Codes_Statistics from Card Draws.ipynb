{
 "cells": [
  {
   "cell_type": "markdown",
   "metadata": {},
   "source": [
    "## Compute Statistics from Card Draws\n",
    "\n",
    "### Liang Sun      \n",
    "### June 7, 2017\n",
    "\n",
    "-----"
   ]
  },
  {
   "cell_type": "markdown",
   "metadata": {},
   "source": [
    "### 1. Distribution of Card Values\n",
    "\n",
    "A set of cards has 52 values (excluding two jokers). Jack, Queen, and King are given a value of 10. Other cards have their face value.\n",
    "\n",
    "``` python\n",
    "card_values = [1,2,3,4,5,6,7,8,9,10,10,10,10]*4\n",
    "```\n",
    "\n",
    "The relative frequencies of the card values for a single draw is shown in the histogram below:\n",
    "\n",
    "![draw](draw.jpg)"
   ]
  },
  {
   "cell_type": "markdown",
   "metadata": {},
   "source": [
    "- The mean of the value distribution is 6.54.\n",
    "- The median of the value distribution is 7.00.\n",
    "- The variance of the value distribution is 3.15.\n",
    "\n",
    "-----"
   ]
  },
  {
   "cell_type": "markdown",
   "metadata": {},
   "source": [
    "## 2. Sample distribution of three-card sum\n",
    "\n",
    "A sample of 30 draws of three cards from the set is generated.\n",
    "\n",
    "```\n",
    "Kc 2d Js\n",
    "Ah 5d 5s\n",
    "2h 5h 4c\n",
    "Ks 9h 5h\n",
    "2c 9h 7d\n",
    "Jh 3s Jd\n",
    "Ad 7h Ah\n",
    "Jh 5d 10h\n",
    "3c As 2d\n",
    "5d 3d Qc\n",
    "10d Ac 6h\n",
    "4d 2c 6s\n",
    "10c 5s 9d\n",
    "Ks 2c Kc\n",
    "Jc 9h 7c\n",
    "4c As 5c\n",
    "Ah 10s 8d\n",
    "Jh As 2s\n",
    "Kh Kc 5s\n",
    "8h 10d 9s\n",
    "2s 5d As\n",
    "Ah Kc 8s\n",
    "3c 2s 3d\n",
    "10d 3c As\n",
    "2d Jd 4c\n",
    "Qc Ah 10d\n",
    "4s 8d Jc\n",
    "8h Kc 8s\n",
    "2s 2d 2h\n",
    "9d Ad 2h\n",
    "\n",
    "```"
   ]
  },
  {
   "cell_type": "markdown",
   "metadata": {},
   "source": [
    "``` python\n",
    "sample_sum = [22,11,11,24,18,23,9,25,6,18,17,12,24,22,26,10,19,13,25,27,8,19,8,14,16,21,22,26,6,12]\n",
    "```"
   ]
  },
  {
   "cell_type": "markdown",
   "metadata": {},
   "source": [
    "Here are some descriptive statistics from the sample:\n",
    "\n",
    " \n",
    "estimate of population mean: $\\mu$ = $\\bar x$   = 17.13\n",
    "\n",
    "estimate of population median = 18.00\n",
    "\n",
    "estimate of population variance: $\\sigma^2$ = 44.46\n",
    "\n",
    "estimate of population standard deviation: $\\sigma$ = 6.67\n",
    " "
   ]
  },
  {
   "cell_type": "markdown",
   "metadata": {},
   "source": [
    "The distribution of the values is presented in the histogram below:\n",
    "\n",
    "![3card_draw](draw3.jpg)\n"
   ]
  },
  {
   "cell_type": "markdown",
   "metadata": {},
   "source": [
    "By comparison, its shape looks quite different from the original distribution for single draw. The original distribution is highly skewed because the value 10 has much larger probability of getting drawn than other values. However, for each three-card draw, the sum value is a result of a mix of small and large values with different probilities. The difference between three-card draws thus become smaller and more even. "
   ]
  },
  {
   "cell_type": "markdown",
   "metadata": {},
   "source": [
    "The confidence interval at 90% confidence level is:\n",
    "\n",
    "$\\bar x$ $\\pm$ 1.645 $\\times$ $\\sigma$ \n",
    "\n",
    "Put the values of the descriptive statistics we calculated above and get:\n",
    "\n",
    "The 90% confidence interval is [6.16, 28.10], which means we expect 90% of the future draw values will fall in this range."
   ]
  },
  {
   "cell_type": "markdown",
   "metadata": {},
   "source": [
    "To find the probability of getting a value at least 20,\n",
    "\n",
    "z = $\\frac {20 - \\bar x}{\\sigma}$ = 0.43\n",
    "\n",
    "From z-table, the probability for draws to have a value at least 20 is about 0.3336. \n"
   ]
  }
 ],
 "metadata": {
  "anaconda-cloud": {},
  "kernelspec": {
   "display_name": "Python [default]",
   "language": "python",
   "name": "python2"
  },
  "language_info": {
   "codemirror_mode": {
    "name": "ipython",
    "version": 2
   },
   "file_extension": ".py",
   "mimetype": "text/x-python",
   "name": "python",
   "nbconvert_exporter": "python",
   "pygments_lexer": "ipython2",
   "version": "2.7.12"
  }
 },
 "nbformat": 4,
 "nbformat_minor": 1
}
